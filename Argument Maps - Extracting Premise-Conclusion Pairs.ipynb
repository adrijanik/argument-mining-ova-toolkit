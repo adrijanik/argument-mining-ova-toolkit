{
 "cells": [
  {
   "cell_type": "code",
   "execution_count": null,
   "metadata": {},
   "outputs": [],
   "source": [
    "import json\n",
    "import os\n",
    "import numpy as np\n",
    "import pandas as pd"
   ]
  },
  {
   "cell_type": "markdown",
   "metadata": {},
   "source": [
    "## Collect maps from directories"
   ]
  },
  {
   "cell_type": "code",
   "execution_count": null,
   "metadata": {},
   "outputs": [],
   "source": [
    "def collect_maps(root):\n",
    "    \"\"\"Iterate over subdirectories with argument maps and load its json \n",
    "      representation in the dictionary with a key of filename\n",
    "      Each json-file contains one argument map \n",
    "      (folder = json files -> 1 file - 1 map)\n",
    "\n",
    "      Args:\n",
    "          - root - directory with subdirectories with maps\n",
    "\n",
    "      Returns:\n",
    "          - maps - dictionary with file-name as a key and json map as a value\n",
    "    \"\"\"\n",
    "    maps = {}\n",
    "    for subdir in os.listdir(root):\n",
    "        if os.path.isdir(root+ '/' + subdir):\n",
    "\n",
    "            for filename in os.listdir((root+ '/' + subdir)):\n",
    "                if filename.endswith(\".json\"):\n",
    "                    with open(os.path.join(root, subdir, filename)) as f:\n",
    "                        maps[filename] = json.loads(f.read())\n",
    "    return maps"
   ]
  },
  {
   "cell_type": "code",
   "execution_count": null,
   "metadata": {},
   "outputs": [],
   "source": [
    "def create_pairs(premises, conclusions):\n",
    "    \"\"\"Create dictionary of pairs with an identifier.\n",
    "    With the following form:\n",
    "    {id: {\"conclusion\": <SINGLE_CONCLUSION>, \"premises\":[<LIST_OF_PREMISES>]}}\n",
    "    \"\"\"  \n",
    "    pairs = {}\n",
    "    for i, x in enumerate(conclusions):\n",
    "        pairs[i] = {'conclusion':x, 'premises':[]}\n",
    "        id_to = x['from']['id']\n",
    "        for p in premises:\n",
    "            if p['to']['id'] == id_to:\n",
    "                pairs[i]['premises'].append(p)\n",
    "                \n",
    "    return pairs"
   ]
  },
  {
   "cell_type": "code",
   "execution_count": null,
   "metadata": {},
   "outputs": [],
   "source": [
    "def collect_pairs (data):\n",
    "    \"\"\"Extract pairs of premises and conclusions from a single argumentation map.\n",
    "       *[extract conclusions from the fields \"edge\" \n",
    "       (where the conclusion content is repeated).]\n",
    "       \n",
    "       Conclusion has incoming edge of the type 'RA' and the 'to' field of this \n",
    "       edge is 'I' (information node).\n",
    "\n",
    "       Args:\n",
    "        - data - single argumentation map\n",
    "\n",
    "       Returns:\n",
    "        - list of premises and conclusions from a single map \"\"\"\n",
    "    \n",
    "    # conclusions\n",
    "    conclusions = [x for x in data['edges'] if x['from']['type'] == 'RA' and x['to']['type'] == 'I']\n",
    "    # id of 'from'\n",
    "    # premises\n",
    "    premises = [x for x in data['edges'] if x['to']['type'] == 'RA' and x['from']['type'] == 'I']\n",
    "    # id of 'to'\n",
    "    pairs = create_pairs(premises, conclusions)\n",
    "    return pairs"
   ]
  },
  {
   "cell_type": "code",
   "execution_count": null,
   "metadata": {},
   "outputs": [],
   "source": [
    "def print_pairs(pairs):\n",
    "    \"\"\"Print pairs of premises and conclusions\n",
    "\n",
    "     Args: \n",
    "         - pairs - dictionary of premises and conclusions\n",
    "    \"\"\"\n",
    "    for pair in pairs:\n",
    "        print('Conclusion: {}'.format(pairs[pair]['conclusion']['to']['text'],'\\n'))\n",
    "        for x in pairs[pair]['premises']:\n",
    "            print('Premise: {}'.format(x['from']['text']))\n",
    "        print(\"-----\")"
   ]
  },
  {
   "cell_type": "code",
   "execution_count": null,
   "metadata": {},
   "outputs": [],
   "source": [
    "def corpus_pairs(maps):\n",
    "    \"\"\"Collect pairs of premises and conclusions for each separate \n",
    "    map in the corpus\n",
    "    Args:\n",
    "      - maps - dictionary with maps (key: file name, value: map)\n",
    "    Returns:\n",
    "      - corpus - dictionary with a filename as a key and dictionary of pairs as \n",
    "        a value\n",
    "    \"\"\"\n",
    "    corpus = {}\n",
    "    for elem in maps:\n",
    "        corpus[elem] = collect_pairs(maps[elem])\n",
    "    return corpus"
   ]
  },
  {
   "cell_type": "code",
   "execution_count": null,
   "metadata": {},
   "outputs": [],
   "source": [
    "def collect_pairs_from_maps(maps):\n",
    "    \"\"\"Given maps with all data compress them to contain only premsie-conclusion pairs\n",
    "    \n",
    "    Args:\n",
    "        - maps - dictionary with argument maps with full data\n",
    "    Returns:\n",
    "        - maps_compressed - dictionary with argument maps with only pairs (conclusion, premise) in a list\n",
    "    \"\"\"\n",
    "    maps_compressed = {}\n",
    "    for elem in maps:\n",
    "        pairs = []\n",
    "        pairs_complex = collect_pairs(maps[elem])\n",
    "        for pair_complex in pairs_complex:\n",
    "            conclusion = pairs_complex[pair_complex]['conclusion']['to']['text']\n",
    "            premises = [x['from']['text'] for x in pairs_complex[pair_complex]['premises']]\n",
    "            pairs_tmp = [(conclusion, x) for x in premises]\n",
    "            pairs.extend(pairs_tmp)\n",
    "        \n",
    "        maps_compressed[elem] = pairs\n",
    "    return maps_compressed"
   ]
  },
  {
   "cell_type": "markdown",
   "metadata": {},
   "source": [
    "## **Usage Example**"
   ]
  },
  {
   "cell_type": "code",
   "execution_count": null,
   "metadata": {},
   "outputs": [],
   "source": [
    "root= \"./\" # path to root directory of files with argumnt maps\n",
    "maps = collect_maps(root)\n",
    "corpus = corpus_pairs(maps)"
   ]
  },
  {
   "cell_type": "code",
   "execution_count": null,
   "metadata": {},
   "outputs": [],
   "source": [
    "corpus"
   ]
  },
  {
   "cell_type": "code",
   "execution_count": null,
   "metadata": {},
   "outputs": [],
   "source": [
    "data = maps['<FILE-NAME>.json']\n",
    "pairs = collect_pairs(data)\n",
    "print_pairs(pairs)"
   ]
  },
  {
   "cell_type": "code",
   "execution_count": null,
   "metadata": {},
   "outputs": [],
   "source": [
    "maps_comp = collect_pairs_from_maps(maps)\n",
    "X = [y for x in maps_comp for y in maps_comp[x] ]"
   ]
  },
  {
   "cell_type": "code",
   "execution_count": null,
   "metadata": {},
   "outputs": [],
   "source": []
  }
 ],
 "metadata": {
  "kernelspec": {
   "display_name": "Python 3",
   "language": "python",
   "name": "python3"
  },
  "language_info": {
   "codemirror_mode": {
    "name": "ipython",
    "version": 3
   },
   "file_extension": ".py",
   "mimetype": "text/x-python",
   "name": "python",
   "nbconvert_exporter": "python",
   "pygments_lexer": "ipython3",
   "version": "3.5.2"
  }
 },
 "nbformat": 4,
 "nbformat_minor": 4
}
